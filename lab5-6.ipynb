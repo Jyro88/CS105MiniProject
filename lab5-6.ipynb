{
 "cells": [
  {
   "cell_type": "markdown",
   "metadata": {},
   "source": [
    "# Topic: Correlation between student health and academic performance\n",
    "### Group 7: Bansri Patel, Justin Yee, Kapilan Ramasamy, Nathaniel Morales, Shreya Agarwal"
   ]
  },
  {
   "cell_type": "markdown",
   "metadata": {},
   "source": [
    "### 1. What data do you have?"
   ]
  },
  {
   "cell_type": "markdown",
   "metadata": {},
   "source": [
    "### 2. What would you like to know?"
   ]
  },
  {
   "cell_type": "markdown",
   "metadata": {},
   "source": [
    "### 3. Explore and present the data. (Generate statistics, perform visualizations)"
   ]
  },
  {
   "cell_type": "code",
   "execution_count": 1,
   "metadata": {},
   "outputs": [],
   "source": [
    "# Import necessary libraries\n",
    "import pandas as pd\n",
    "import numpy as np\n",
    "import seaborn as sns\n",
    "import matplotlib.pyplot as plt\n",
    "from scipy.stats import chi2_contingency, pearsonr"
   ]
  },
  {
   "cell_type": "code",
   "execution_count": 2,
   "metadata": {},
   "outputs": [
    {
     "name": "stdout",
     "output_type": "stream",
     "text": [
      "                   Average_GPA\n",
      "prioritize_health             \n",
      "0.0                   3.472222\n",
      "1.0                   3.451754\n"
     ]
    },
    {
     "data": {
      "image/png": "[encoded data removed]",
      "text/plain": [
       "<Figure size 640x480 with 1 Axes>"
      ]
     },
     "metadata": {},
     "output_type": "display_data"
    }
   ],
   "source": [
    "# Load the data\n",
    "df = pd.read_csv('data.csv')\n",
    "\n",
    "pd.set_option('display.max_rows', None)\n",
    "pd.set_option('display.max_columns', None)\n",
    "\n",
    "# Convert prioritize_health to numerical values\n",
    "df['prioritize_health'] = df['prioritize_health'].apply(lambda x: 1 if x == 'Yes' else 0).astype(float)\n",
    "\n",
    "# Format the GPA column\n",
    "df['UCR_GPA'] = df['UCR_GPA'].str.replace('Below 2.0', '').str.replace('Prefer not to say', '')\n",
    "# Step 1: Split the GPA column into two new columns\n",
    "df[['Lower_GPA', 'Upper_GPA']] = df['UCR_GPA'].str.split(' - ', expand=True)\n",
    "\n",
    "# Step 2: Convert the new columns to numerical values\n",
    "df['Lower_GPA'] = pd.to_numeric(df['Lower_GPA'].replace('Below', '2.0'))\n",
    "df['Upper_GPA'] = pd.to_numeric(df['Upper_GPA'].replace('Below', '2.0'))\n",
    "\n",
    "# Step 3: Calculate the average GPA\n",
    "df['Average_GPA'] = (df['Lower_GPA'] + df['Upper_GPA']) / 2\n",
    "\n",
    "#pivot table showing average GPA for students who prioritize health, and students who do not prioritize health.\n",
    "health_priority_gpa = df.pivot_table(index=['prioritize_health'], values=['Average_GPA'], aggfunc='mean')\n",
    "health_priority_gpa.plot(kind = 'bar')\n",
    "\n",
    "print(health_priority_gpa)\n"
   ]
  },
  {
   "cell_type": "markdown",
   "metadata": {},
   "source": [
    "### 4. Can you state any hypotheses or make predictions? Which tests can you apply to verify your hypothesis?\n",
    "- Hypothesis 1: There is a positive correlation between prioritizing health and academic success\\\n",
    "Prediction: Those who prioritize health and have a good mental well being perform better in school\\\n",
    "Test: Calculate the correlation coefficient between responses to health prioritization and UCR cumulative GPA.\n",
    "\n",
    "- Hypothesis 2: Imposter syndrome negatively impacts mental wellbeing\\\n",
    "Prediction: Those who get imposter syndrome more frequently feel worse about themselves and do worse in school\\\n",
    "Test: Assess the correlation between experiences of imposter syndrome and the current state of mental wellbeing.\n",
    "\n",
    "- Hypothesis 3: Financial stress negatively influences academic performance\\\n",
    "Prediction: Those who are stressed by finances do worse in school\\\n",
    "Test: Compare the average academic performance (UCR cumulative GPA) between those who report being stressed about their financial situation and those who do not."
   ]
  },
  {
   "cell_type": "markdown",
   "metadata": {},
   "source": [
    "### 5. Test your hypotheses."
   ]
  },
  {
   "cell_type": "code",
   "execution_count": 3,
   "metadata": {},
   "outputs": [
    {
     "name": "stdout",
     "output_type": "stream",
     "text": [
      "Hypothesis 1 results:\n",
      "Pearson Correlation: -0.025264091407949805\n",
      "Spearman Rank Correlation: -0.009146670939243462\n",
      "\n",
      "Hypothesis 2 results:\n",
      "Pearson Correlation (Imposter Syndrome vs Mental Wellbeing): -0.29413551572595575\n",
      "Chi-Squared Statistic: 79.99387484926785\n",
      "P-value (Chi-Squared Test): 0.8805169099965947\n",
      "There is no significant relationship between mean imposter syndrome and academic performance.\n",
      "\n",
      "Hypothesis 3 results:\n",
      "Pearson Correlation (Financial Stress vs Academic Performance): nan\n",
      "T-statistic (Financial Stress vs Academic Performance): nan\n",
      "P-value (Financial Stress vs Academic Performance): nan\n",
      "There is no significant difference in academic performance based on financial stress.\n"
     ]
    }
   ],
   "source": [
    "# Hypothesis 1\n",
    "# 1. Correlation Analysis (Pearson correlation)\n",
    "pearson_corr = df['prioritize_health'].corr(df['Average_GPA'])\n",
    "print(\"Hypothesis 1 results:\")\n",
    "print(f\"Pearson Correlation: {pearson_corr}\")\n",
    "\n",
    "# 2. Correlation Analysis (Spearman rank correlation)\n",
    "spearman_corr = df['prioritize_health'].corr(df['Average_GPA'], method='spearman')\n",
    "print(f\"Spearman Rank Correlation: {spearman_corr}\\n\")\n",
    "\n",
    "\n",
    "# Hypothesis 2\n",
    "# 1. Correlation Analysis (Pearson correlation)\n",
    "# Create a list of imposter syndrome columns for different grade levels\n",
    "imposter_syndrome_columns = ['imposter_syndrome_freshman', 'imposter_syndrome_sophomore', 'imposter_syndrome_junior', 'imposter_syndrome_senior', 'imposter_syndrome_graduate']\n",
    "\n",
    "# Calculate the mean imposter syndrome score across grade levels\n",
    "df['mean_imposter_syndrome'] = df[imposter_syndrome_columns].mean(axis=1)\n",
    "\n",
    "# Assess the correlation between mean imposter syndrome score and mental wellbeing\n",
    "pearson_corr_imp = df['mean_imposter_syndrome'].corr(df['mental_wellbeing'])\n",
    "print(\"Hypothesis 2 results:\")\n",
    "print(f\"Pearson Correlation (Imposter Syndrome vs Mental Wellbeing): {pearson_corr_imp}\")\n",
    "\n",
    "# Create a contingency table for imposter syndrome and academic performance\n",
    "contingency_table_imp = pd.crosstab(df['mean_imposter_syndrome'], df['Average_GPA'])\n",
    "\n",
    "# Perform Chi-Squared Test\n",
    "chi2_stat_imp, p_value_chi2_imp, _, _ = chi2_contingency(contingency_table_imp)\n",
    "\n",
    "print(f\"Chi-Squared Statistic: {chi2_stat_imp}\")\n",
    "print(f\"P-value (Chi-Squared Test): {p_value_chi2_imp}\")\n",
    "\n",
    "# Check for significance\n",
    "if p_value_chi2_imp < 0.05:\n",
    "    print(\"There is a significant relationship between mean imposter syndrome and academic performance.\\n\")\n",
    "else:\n",
    "    print(\"There is no significant relationship between mean imposter syndrome and academic performance.\\n\")\n",
    "\n",
    "\n",
    "# Hypothesis 3\n",
    "# Calculate the mean financial stress score across grade levels\n",
    "df['mean_financial_stress'] = df['financial_stress'].mean()\n",
    "\n",
    "# Assess the correlation between mean financial stress score and academic performance\n",
    "pearson_corr_financial = df['mean_financial_stress'].corr(df['Average_GPA'])\n",
    "print(\"Hypothesis 3 results:\")\n",
    "print(f\"Pearson Correlation (Financial Stress vs Academic Performance): {pearson_corr_financial}\")\n",
    "\n",
    "from scipy.stats import ttest_ind\n",
    "\n",
    "# Separate the data into two groups based on financial stress (e.g., high vs. low)\n",
    "high_financial_stress = df[df['financial_stress'] > 3]['Average_GPA']\n",
    "low_financial_stress = df[df['financial_stress'] <= 3]['Average_GPA']\n",
    "\n",
    "# Perform independent t-test\n",
    "t_stat_financial, p_value_financial = ttest_ind(high_financial_stress, low_financial_stress, equal_var=False)\n",
    "\n",
    "print(f\"T-statistic (Financial Stress vs Academic Performance): {t_stat_financial}\")\n",
    "print(f\"P-value (Financial Stress vs Academic Performance): {p_value_financial}\")\n",
    "\n",
    "# Check for significance\n",
    "if p_value_financial < 0.05:\n",
    "    print(\"There is a significant difference in academic performance based on financial stress.\")\n",
    "else:\n",
    "    print(\"There is no significant difference in academic performance based on financial stress.\")\n",
    "\n",
    "\n",
    "\n",
    "\n"
   ]
  },
  {
   "cell_type": "markdown",
   "metadata": {},
   "source": [
    "# Hypothesis 1\n",
    "### Test 1: Pearson Coefficient\n",
    "Since the Pearson Correlation Coefficient is close to 0, that means that there is actually close to no correlation between whether people prioritize health and how well they do in school. "
   ]
  },
  {
   "cell_type": "markdown",
   "metadata": {},
   "source": [
    "### 6. Draw the overall conclusion"
   ]
  }
 ],
 "metadata": {
  "kernelspec": {
   "display_name": "Python 3 (ipykernel)",
   "language": "python",
   "name": "python3"
  },
  "language_info": {
   "codemirror_mode": {
    "name": "ipython",
    "version": 3
   },
   "file_extension": ".py",
   "mimetype": "text/x-python",
   "name": "python",
   "nbconvert_exporter": "python",
   "pygments_lexer": "ipython3",
   "version": "3.11.5"
  }
 },
 "nbformat": 4,
 "nbformat_minor": 2
}
