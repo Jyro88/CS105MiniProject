{
 "cells": [
  {
   "cell_type": "markdown",
   "metadata": {},
   "source": [
    "# Topic: Correlation between student health and academic performance\n",
    "### Group 7: Bansri Patel, Justin Yee, Kapilan Ramasamy, Nathaniel Morales, Shreya Agarwal"
   ]
  },
  {
   "cell_type": "markdown",
   "metadata": {},
   "source": [
    "### 1. What data do you have?\n",
    "#The data we have is voluntarily provided survey data from 256 current UCR undergraduate students. \n",
    "The data points relevant to us are as follows: \n",
    "- Overall UCR gpa \n",
    "- Do you prioritize health (Y/N) \n",
    "- Health vs Academic studies (scale of 1-5) \n",
    "- Mental wellbeing (scale of 1-5) \n",
    "- Did you face imposter syndrome in high school (scale of 1-5) \n",
    "- Imposter syndrome freshman - senior year at UCR (scale of 1-5) \n",
    "- Do you face financial stresses at UCR (scale of 1-5) \n"

   ]
  },
  {
   "cell_type": "markdown",
   "metadata": {},
   "source": [
    "### 2. What would you like to know?"
   ]
  },
  {
   "cell_type": "markdown",
   "metadata": {},
   "source": [
    "### 3. Explore and present the data. (Generate statistics, perform visualizations)"
   ]
  },
  {
   "cell_type": "code",
   "execution_count": 1,
   "metadata": {},
   "outputs": [],
   "source": [
    "# Import necessary libraries\n",
    "import pandas as pd\n",
    "import numpy as np\n",
    "import seaborn as sns\n",
    "import matplotlib.pyplot as plt\n",
    "from scipy.stats import chi2_contingency, pointbiserialr, pearsonr, spearmanr"
   ]
  },
  {
   "cell_type": "code",
   "execution_count": 2,
   "metadata": {},
   "outputs": [],
   "source": [
    "# Load the data\n",
    "df = pd.read_csv('data.csv')\n",
    "\n",
    "# Convert prioritize_health to numerical values\n",
    "df['prioritize_health'] = df['prioritize_health'].apply(lambda x: 1 if x == 'Yes' else 0).astype(float)\n",
    "\n",
    "# Format the GPA column\n",
    "df['UCR_GPA'] = df['UCR_GPA'].str.replace('Below 2.0', '').str.replace('Prefer not to say', '')\n",
    "# Split the GPA column into two new columns\n",
    "df[['Lower_GPA', 'Upper_GPA']] = df['UCR_GPA'].str.split(' - ', expand=True)\n",
    "\n",
    "# Convert the new columns to numerical values\n",
    "df['Lower_GPA'] = pd.to_numeric(df['Lower_GPA'].replace('Below', '2.0'))\n",
    "df['Upper_GPA'] = pd.to_numeric(df['Upper_GPA'].replace('Below', '2.0'))\n",
    "\n",
    "# Calculate the average GPA\n",
    "df['Average_GPA'] = (df['Lower_GPA'] + df['Upper_GPA']) / 2\n"
   ]
  },
  {
   "cell_type": "markdown",
   "metadata": {},
   "source": [
    "### 4. Can you state any hypotheses or make predictions? Which tests can you apply to verify your hypothesis?\n",
    "- Hypothesis 1: There is a positive correlation between prioritizing health and academic success\\\n",
    "Prediction: Those who prioritize health and have a good mental well being perform better in school\\\n",
    "Test: Calculate the correlation coefficient between responses to health prioritization and UCR cumulative GPA.\n",
    "\n",
    "- Hypothesis 2: Imposter syndrome negatively impacts mental wellbeing\\\n",
    "Prediction: Those who get imposter syndrome more frequently feel worse about themselves and do worse in school\\\n",
    "Test: Assess the correlation between experiences of imposter syndrome and the current state of mental wellbeing.\n",
    "\n",
    "- Hypothesis 3: Financial stress negatively influences academic performance\\\n",
    "Prediction: Those who are stressed by finances do worse in school\\\n",
    "Test: Compare the average academic performance (UCR cumulative GPA) between those who report being stressed about their financial situation and those who do not."
   ]
  },
  {
   "cell_type": "markdown",
   "metadata": {},
   "source": [
    "### 5. Test your hypotheses."
   ]
  },
  {
   "cell_type": "code",
   "execution_count": 3,
   "metadata": {},
   "outputs": [
    {
     "name": "stdout",
     "output_type": "stream",
     "text": [
      "Hypothesis 1 results: \n",
      "Correlation Coefficient: 0.01649880022436315\n",
      "P-value: 0.8801532777476989\n",
      "Average GPA for No Health Priority: 3.4791666666666665\n",
      "Average GPA for Health Priority: 3.4919354838709675\n",
      "Chi-squared value: 0.7287211981566823\n",
      "P-value (Chi-squared): 0.8664285340490149\n",
      "\n",
      "Hypothesis 2 results:\n",
      "Pearson Correlation (Imposter Syndrome vs Mental Wellbeing): -0.3744701129003729\n",
      "Chi-Squared Statistic: 31.25368707482993\n",
      "P-value (Chi-Squared Test): 0.9707205828119089\n",
      "There is no significant relationship between mean imposter syndrome and academic performance.\n",
      "\n",
      "Hypothesis 3 results: \n",
      "Pearson Correlation Coefficient: -0.16320335457062077\n",
      "P-value (Pearson Correlation): 0.13324566687388287\n",
      "Spearman Correlation Coefficient: -0.18098280366751388\n",
      "P-value (Spearman Correlation): 0.09539364764353168\n"
     ]
    }
   ],
   "source": [
    "# Hypothesis 1\n",
    "# Test 1: point-biserial correlation\n",
    "# Handling missing values (NaN)\n",
    "df.dropna(inplace=True)\n",
    "# Calculate point-biserial correlation coefficient and p-value\n",
    "correlation_coefficient, p_value = pointbiserialr(df['prioritize_health'], df['Average_GPA'])\n",
    "\n",
    "# Output the results\n",
    "print(\"Hypothesis 1 results: \")\n",
    "print(f\"Correlation Coefficient: {correlation_coefficient}\")\n",
    "print(f\"P-value: {p_value}\")\n",
    "\n",
    "# Print average GPA for each category\n",
    "average_gpa_by_health_priority = df.groupby('prioritize_health')['Average_GPA'].mean()\n",
    "print(f\"Average GPA for No Health Priority: {average_gpa_by_health_priority[0]}\")\n",
    "print(f\"Average GPA for Health Priority: {average_gpa_by_health_priority[1]}\")\n",
    "\n",
    "# Test 2: Chi-squared test\n",
    "# Convert GPA to a categorical variable\n",
    "df['GPA_Category'] = pd.cut(df['Average_GPA'], bins=[0, 2.5, 3.0, 3.5, 4.0], labels=['Low', 'Medium', 'High', 'Excellent'])\n",
    "\n",
    "# Create a contingency table\n",
    "contingency_table = pd.crosstab(df['prioritize_health'], df['GPA_Category'])\n",
    "\n",
    "# Chi-squared test\n",
    "chi2, chi2_p, _, _ = chi2_contingency(contingency_table)\n",
    "print(f\"Chi-squared value: {chi2}\")\n",
    "print(f\"P-value (Chi-squared): {chi2_p}\\n\")\n",
    "\n",
    "\n",
    "# Hypothesis 2\n",
    "# 1. Correlation Analysis (Pearson correlation)\n",
    "# Create a list of imposter syndrome columns for different grade levels\n",
    "imposter_syndrome_columns = ['imposter_syndrome_freshman', 'imposter_syndrome_sophomore', 'imposter_syndrome_junior', 'imposter_syndrome_senior', 'imposter_syndrome_graduate']\n",
    "\n",
    "# Calculate the mean imposter syndrome score across grade levels\n",
    "df['mean_imposter_syndrome'] = df[imposter_syndrome_columns].mean(axis=1)\n",
    "\n",
    "# Assess the correlation between mean imposter syndrome score and mental wellbeing\n",
    "pearson_corr_imp = df['mean_imposter_syndrome'].corr(df['mental_wellbeing'])\n",
    "print(\"Hypothesis 2 results:\")\n",
    "print(f\"Pearson Correlation (Imposter Syndrome vs Mental Wellbeing): {pearson_corr_imp}\")\n",
    "\n",
    "# Create a contingency table for imposter syndrome and academic performance\n",
    "contingency_table_imp = pd.crosstab(df['mean_imposter_syndrome'], df['Average_GPA'])\n",
    "\n",
    "# Perform Chi-Squared Test\n",
    "chi2_stat_imp, p_value_chi2_imp, _, _ = chi2_contingency(contingency_table_imp)\n",
    "\n",
    "print(f\"Chi-Squared Statistic: {chi2_stat_imp}\")\n",
    "print(f\"P-value (Chi-Squared Test): {p_value_chi2_imp}\")\n",
    "\n",
    "# Check for significance\n",
    "if p_value_chi2_imp < 0.05:\n",
    "    print(\"There is a significant relationship between mean imposter syndrome and academic performance.\\n\")\n",
    "else:\n",
    "    print(\"There is no significant relationship between mean imposter syndrome and academic performance.\\n\")\n",
    "\n",
    "\n",
    "# Hypothesis 3\n",
    "# Correlation analysis - Pearson correlation coefficient\n",
    "pearson_corr_coefficient, pearson_p_value = pearsonr(df['financial_stress'], df['Average_GPA'])\n",
    "print('Hypothesis 3 results: ')\n",
    "print(f\"Pearson Correlation Coefficient: {pearson_corr_coefficient}\")\n",
    "print(f\"P-value (Pearson Correlation): {pearson_p_value}\")\n",
    "\n",
    "# Correlation analysis - Spearman rank correlation coefficient\n",
    "spearman_corr_coefficient, spearman_p_value = spearmanr(df['financial_stress'], df['Average_GPA'])\n",
    "print(f\"Spearman Correlation Coefficient: {spearman_corr_coefficient}\")\n",
    "print(f\"P-value (Spearman Correlation): {spearman_p_value}\")\n",
    "\n"
   ]
  },
  {
   "cell_type": "markdown",
   "metadata": {},
   "source": [
    "# Hypothesis 1\n",
    "## Tests Used: Point-Biserial correlation and Chi-Squared test\n",
    "### Analysis:\n",
    "- The correlation coefficient of 0.0165 suggests a very weak positive correlation between Health Priority and GPA.\n",
    "- The p-value for the correlation is 0.8801, which is greater than the conventional significance level of 0.05, indicating that the correlation is not statistically significant.\n",
    "- The average GPAs for the two groups are close, with 3.479 for No Health Priority and 3.492 for Health Priority. The chi-squared test found no statistically significant difference between the two groups.\n",
    "\n",
    "### Conclusion: \n",
    "There is no significant linear relationship between Health Priority and GPA, and there is no significant difference in average GPA between students with and without Health Priority.\n",
    "\n",
    "# Hypothesis 2\n",
    "## Tests Used: Pearson Correlation and Chi-Squared test\n",
    "### Analysis: \n",
    "- The correlation coefficient of -0.3745 indicates a moderate negative correlation between Imposter Syndrome and Mental Wellbeing.\n",
    "- The Chi-squared value of 31.25 is relatively high, but the p-value of 0.9707 suggests that there is no significant relationship between mean imposter syndrome and academic performance.\n",
    "\n",
    "### Conclusion:\n",
    "There is no significant linear relationship between Imposter Syndrome and Mental Wellbeing, and there is no significant association between mean imposter syndrome and academic performance. \n",
    "\n",
    "# Hypothesis 3\n",
    "## Tests Used: Pearson and Spearman correlation\n",
    "### Analysis: \n",
    "- The Pearson correlation coefficient is -0.1632, and the p-value is 0.1332, suggesting a weak negative correlation that is not statistically significant.\n",
    "- The Spearman correlation coefficient is -0.1810, with a p-value of 0.0954, indicating a weak negative correlation that approaches statistical significance.\n",
    "\n",
    "### Conclusion:\n",
    "There is no significant linear relationship between the variables, though the Spearman test suggests a potential trend that is just short of statistical significance. "
   ]
  },
  {
   "cell_type": "markdown",
   "metadata": {},
   "source": [
    "### 6. Draw the overall conclusion\n",
    "\n",
    "# Overall Conclusion\n",
    "## Health Priority and Academic Performance:\n",
    "There is no significant correlation between prioritizing health and academic success among college students. Both the point-biserial correlation and the chi-squared test indicated no statistically significant relationship between health prioritization and GPA. The average GPAs for students who prioritize health and those who do not are very close.\n",
    "\n",
    "## Imposter Syndrome and Mental Wellbeing:\n",
    "While there is a moderate negative correlation between experiencing imposter syndrome and mental wellbeing, there is no significant association between mean imposter syndrome and academic performance. The chi-squared test found no statistically significant relationship between imposter syndrome and GPA.\n",
    "\n",
    "## Financial Stress and Academic Performance:\n",
    "There is no significant linear relationship between financial stress and academic performance, as indicated by both Pearson and Spearman correlation tests. However, the Spearman test suggests a potential trend that is just short of statistical significance.\n",
    "\n",
    "## Conclusion:\n",
    "Overall, the current analysis does not strongly support the hypotheses proposed. While some weak correlations were observed, they were not statistically significant. It may have been that other factors beyond those examined in this study may have had a more substantial influence on academic performance among college students. Further research with a larger sample size and consideration of additional variables may have provided deeper insights for the relationship between student health and academic success."
   ]
  }
 ],
 "metadata": {
  "kernelspec": {
   "display_name": "Python 3",
   "language": "python",
   "name": "python3"
  },
  "language_info": {
   "codemirror_mode": {
    "name": "ipython",
    "version": 3
   },
   "file_extension": ".py",
   "mimetype": "text/x-python",
   "name": "python",
   "nbconvert_exporter": "python",
   "pygments_lexer": "ipython3",
   "version": "3.11.8"
  }
 },
 "nbformat": 4,
 "nbformat_minor": 2
}
